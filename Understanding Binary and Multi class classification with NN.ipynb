{
  "nbformat": 4,
  "nbformat_minor": 0,
  "metadata": {
    "colab": {
      "provenance": []
    },
    "kernelspec": {
      "name": "python3",
      "display_name": "Python 3"
    },
    "language_info": {
      "name": "python"
    },
    "gpuClass": "standard"
  },
  "cells": [
    {
      "cell_type": "markdown",
      "source": [
        " Make  classification data and get it ready"
      ],
      "metadata": {
        "id": "IhVv5hJWBDXK"
      }
    },
    {
      "cell_type": "code",
      "source": [
        "import sklearn\n",
        "from sklearn.datasets import make_circles\n",
        "\n",
        "#make 1000 samples\n",
        "n_samples=1000\n",
        "\n",
        "#create circles\n",
        "X, y = make_circles(n_samples, noise=0.03, random_state=42)"
      ],
      "metadata": {
        "id": "BD8FqFqpQXsk"
      },
      "execution_count": 2,
      "outputs": []
    },
    {
      "cell_type": "code",
      "source": [
        "len(X),len(y)"
      ],
      "metadata": {
        "colab": {
          "base_uri": "https://localhost:8080/"
        },
        "id": "pP6GaSJTQoG-",
        "outputId": "468e169e-8f8d-4238-a442-11f79bcc9281"
      },
      "execution_count": 3,
      "outputs": [
        {
          "output_type": "execute_result",
          "data": {
            "text/plain": [
              "(1000, 1000)"
            ]
          },
          "metadata": {},
          "execution_count": 3
        }
      ]
    },
    {
      "cell_type": "code",
      "source": [
        "print(f\"first 5 samples of X: \\n {X[:5]}\")\n",
        "print(f\"\\n first 5 smples of y:\\n {y[:5]}\")"
      ],
      "metadata": {
        "colab": {
          "base_uri": "https://localhost:8080/"
        },
        "id": "tHafPsz3Q5Xn",
        "outputId": "2cb6d343-3b9a-427d-ebcb-3130dc107419"
      },
      "execution_count": 5,
      "outputs": [
        {
          "output_type": "stream",
          "name": "stdout",
          "text": [
            "first 5 samples of X: \n",
            " [[ 0.75424625  0.23148074]\n",
            " [-0.75615888  0.15325888]\n",
            " [-0.81539193  0.17328203]\n",
            " [-0.39373073  0.69288277]\n",
            " [ 0.44220765 -0.89672343]]\n",
            "\n",
            " first 5 smples of y:\n",
            " [1 1 1 1 0]\n"
          ]
        }
      ]
    },
    {
      "cell_type": "code",
      "source": [
        "#Make dataframe of circle data"
      ],
      "metadata": {
        "id": "N5wG4Z9JRCxl"
      },
      "execution_count": 6,
      "outputs": []
    },
    {
      "cell_type": "code",
      "source": [
        "import pandas as pd\n",
        "circles = pd.DataFrame({\"X1\":X[:,0],\n",
        "                        \"X2\": X[:,1],\n",
        "                        \"label\":y})\n",
        "circles.head()"
      ],
      "metadata": {
        "colab": {
          "base_uri": "https://localhost:8080/",
          "height": 206
        },
        "id": "TpagA1RvSZbX",
        "outputId": "d92db02e-4ea2-462c-e17f-b643d77fecc9"
      },
      "execution_count": 7,
      "outputs": [
        {
          "output_type": "execute_result",
          "data": {
            "text/plain": [
              "         X1        X2  label\n",
              "0  0.754246  0.231481      1\n",
              "1 -0.756159  0.153259      1\n",
              "2 -0.815392  0.173282      1\n",
              "3 -0.393731  0.692883      1\n",
              "4  0.442208 -0.896723      0"
            ],
            "text/html": [
              "\n",
              "  <div id=\"df-6f3cb491-453a-4d0d-820b-8eadcd0af748\" class=\"colab-df-container\">\n",
              "    <div>\n",
              "<style scoped>\n",
              "    .dataframe tbody tr th:only-of-type {\n",
              "        vertical-align: middle;\n",
              "    }\n",
              "\n",
              "    .dataframe tbody tr th {\n",
              "        vertical-align: top;\n",
              "    }\n",
              "\n",
              "    .dataframe thead th {\n",
              "        text-align: right;\n",
              "    }\n",
              "</style>\n",
              "<table border=\"1\" class=\"dataframe\">\n",
              "  <thead>\n",
              "    <tr style=\"text-align: right;\">\n",
              "      <th></th>\n",
              "      <th>X1</th>\n",
              "      <th>X2</th>\n",
              "      <th>label</th>\n",
              "    </tr>\n",
              "  </thead>\n",
              "  <tbody>\n",
              "    <tr>\n",
              "      <th>0</th>\n",
              "      <td>0.754246</td>\n",
              "      <td>0.231481</td>\n",
              "      <td>1</td>\n",
              "    </tr>\n",
              "    <tr>\n",
              "      <th>1</th>\n",
              "      <td>-0.756159</td>\n",
              "      <td>0.153259</td>\n",
              "      <td>1</td>\n",
              "    </tr>\n",
              "    <tr>\n",
              "      <th>2</th>\n",
              "      <td>-0.815392</td>\n",
              "      <td>0.173282</td>\n",
              "      <td>1</td>\n",
              "    </tr>\n",
              "    <tr>\n",
              "      <th>3</th>\n",
              "      <td>-0.393731</td>\n",
              "      <td>0.692883</td>\n",
              "      <td>1</td>\n",
              "    </tr>\n",
              "    <tr>\n",
              "      <th>4</th>\n",
              "      <td>0.442208</td>\n",
              "      <td>-0.896723</td>\n",
              "      <td>0</td>\n",
              "    </tr>\n",
              "  </tbody>\n",
              "</table>\n",
              "</div>\n",
              "    <div class=\"colab-df-buttons\">\n",
              "\n",
              "  <div class=\"colab-df-container\">\n",
              "    <button class=\"colab-df-convert\" onclick=\"convertToInteractive('df-6f3cb491-453a-4d0d-820b-8eadcd0af748')\"\n",
              "            title=\"Convert this dataframe to an interactive table.\"\n",
              "            style=\"display:none;\">\n",
              "\n",
              "  <svg xmlns=\"http://www.w3.org/2000/svg\" height=\"24px\" viewBox=\"0 -960 960 960\">\n",
              "    <path d=\"M120-120v-720h720v720H120Zm60-500h600v-160H180v160Zm220 220h160v-160H400v160Zm0 220h160v-160H400v160ZM180-400h160v-160H180v160Zm440 0h160v-160H620v160ZM180-180h160v-160H180v160Zm440 0h160v-160H620v160Z\"/>\n",
              "  </svg>\n",
              "    </button>\n",
              "\n",
              "  <style>\n",
              "    .colab-df-container {\n",
              "      display:flex;\n",
              "      gap: 12px;\n",
              "    }\n",
              "\n",
              "    .colab-df-convert {\n",
              "      background-color: #E8F0FE;\n",
              "      border: none;\n",
              "      border-radius: 50%;\n",
              "      cursor: pointer;\n",
              "      display: none;\n",
              "      fill: #1967D2;\n",
              "      height: 32px;\n",
              "      padding: 0 0 0 0;\n",
              "      width: 32px;\n",
              "    }\n",
              "\n",
              "    .colab-df-convert:hover {\n",
              "      background-color: #E2EBFA;\n",
              "      box-shadow: 0px 1px 2px rgba(60, 64, 67, 0.3), 0px 1px 3px 1px rgba(60, 64, 67, 0.15);\n",
              "      fill: #174EA6;\n",
              "    }\n",
              "\n",
              "    .colab-df-buttons div {\n",
              "      margin-bottom: 4px;\n",
              "    }\n",
              "\n",
              "    [theme=dark] .colab-df-convert {\n",
              "      background-color: #3B4455;\n",
              "      fill: #D2E3FC;\n",
              "    }\n",
              "\n",
              "    [theme=dark] .colab-df-convert:hover {\n",
              "      background-color: #434B5C;\n",
              "      box-shadow: 0px 1px 3px 1px rgba(0, 0, 0, 0.15);\n",
              "      filter: drop-shadow(0px 1px 2px rgba(0, 0, 0, 0.3));\n",
              "      fill: #FFFFFF;\n",
              "    }\n",
              "  </style>\n",
              "\n",
              "    <script>\n",
              "      const buttonEl =\n",
              "        document.querySelector('#df-6f3cb491-453a-4d0d-820b-8eadcd0af748 button.colab-df-convert');\n",
              "      buttonEl.style.display =\n",
              "        google.colab.kernel.accessAllowed ? 'block' : 'none';\n",
              "\n",
              "      async function convertToInteractive(key) {\n",
              "        const element = document.querySelector('#df-6f3cb491-453a-4d0d-820b-8eadcd0af748');\n",
              "        const dataTable =\n",
              "          await google.colab.kernel.invokeFunction('convertToInteractive',\n",
              "                                                    [key], {});\n",
              "        if (!dataTable) return;\n",
              "\n",
              "        const docLinkHtml = 'Like what you see? Visit the ' +\n",
              "          '<a target=\"_blank\" href=https://colab.research.google.com/notebooks/data_table.ipynb>data table notebook</a>'\n",
              "          + ' to learn more about interactive tables.';\n",
              "        element.innerHTML = '';\n",
              "        dataTable['output_type'] = 'display_data';\n",
              "        await google.colab.output.renderOutput(dataTable, element);\n",
              "        const docLink = document.createElement('div');\n",
              "        docLink.innerHTML = docLinkHtml;\n",
              "        element.appendChild(docLink);\n",
              "      }\n",
              "    </script>\n",
              "  </div>\n",
              "\n",
              "\n",
              "<div id=\"df-d689b5e6-0147-400f-8708-6711cf04877f\">\n",
              "  <button class=\"colab-df-quickchart\" onclick=\"quickchart('df-d689b5e6-0147-400f-8708-6711cf04877f')\"\n",
              "            title=\"Suggest charts\"\n",
              "            style=\"display:none;\">\n",
              "\n",
              "<svg xmlns=\"http://www.w3.org/2000/svg\" height=\"24px\"viewBox=\"0 0 24 24\"\n",
              "     width=\"24px\">\n",
              "    <g>\n",
              "        <path d=\"M19 3H5c-1.1 0-2 .9-2 2v14c0 1.1.9 2 2 2h14c1.1 0 2-.9 2-2V5c0-1.1-.9-2-2-2zM9 17H7v-7h2v7zm4 0h-2V7h2v10zm4 0h-2v-4h2v4z\"/>\n",
              "    </g>\n",
              "</svg>\n",
              "  </button>\n",
              "\n",
              "<style>\n",
              "  .colab-df-quickchart {\n",
              "      --bg-color: #E8F0FE;\n",
              "      --fill-color: #1967D2;\n",
              "      --hover-bg-color: #E2EBFA;\n",
              "      --hover-fill-color: #174EA6;\n",
              "      --disabled-fill-color: #AAA;\n",
              "      --disabled-bg-color: #DDD;\n",
              "  }\n",
              "\n",
              "  [theme=dark] .colab-df-quickchart {\n",
              "      --bg-color: #3B4455;\n",
              "      --fill-color: #D2E3FC;\n",
              "      --hover-bg-color: #434B5C;\n",
              "      --hover-fill-color: #FFFFFF;\n",
              "      --disabled-bg-color: #3B4455;\n",
              "      --disabled-fill-color: #666;\n",
              "  }\n",
              "\n",
              "  .colab-df-quickchart {\n",
              "    background-color: var(--bg-color);\n",
              "    border: none;\n",
              "    border-radius: 50%;\n",
              "    cursor: pointer;\n",
              "    display: none;\n",
              "    fill: var(--fill-color);\n",
              "    height: 32px;\n",
              "    padding: 0;\n",
              "    width: 32px;\n",
              "  }\n",
              "\n",
              "  .colab-df-quickchart:hover {\n",
              "    background-color: var(--hover-bg-color);\n",
              "    box-shadow: 0 1px 2px rgba(60, 64, 67, 0.3), 0 1px 3px 1px rgba(60, 64, 67, 0.15);\n",
              "    fill: var(--button-hover-fill-color);\n",
              "  }\n",
              "\n",
              "  .colab-df-quickchart-complete:disabled,\n",
              "  .colab-df-quickchart-complete:disabled:hover {\n",
              "    background-color: var(--disabled-bg-color);\n",
              "    fill: var(--disabled-fill-color);\n",
              "    box-shadow: none;\n",
              "  }\n",
              "\n",
              "  .colab-df-spinner {\n",
              "    border: 2px solid var(--fill-color);\n",
              "    border-color: transparent;\n",
              "    border-bottom-color: var(--fill-color);\n",
              "    animation:\n",
              "      spin 1s steps(1) infinite;\n",
              "  }\n",
              "\n",
              "  @keyframes spin {\n",
              "    0% {\n",
              "      border-color: transparent;\n",
              "      border-bottom-color: var(--fill-color);\n",
              "      border-left-color: var(--fill-color);\n",
              "    }\n",
              "    20% {\n",
              "      border-color: transparent;\n",
              "      border-left-color: var(--fill-color);\n",
              "      border-top-color: var(--fill-color);\n",
              "    }\n",
              "    30% {\n",
              "      border-color: transparent;\n",
              "      border-left-color: var(--fill-color);\n",
              "      border-top-color: var(--fill-color);\n",
              "      border-right-color: var(--fill-color);\n",
              "    }\n",
              "    40% {\n",
              "      border-color: transparent;\n",
              "      border-right-color: var(--fill-color);\n",
              "      border-top-color: var(--fill-color);\n",
              "    }\n",
              "    60% {\n",
              "      border-color: transparent;\n",
              "      border-right-color: var(--fill-color);\n",
              "    }\n",
              "    80% {\n",
              "      border-color: transparent;\n",
              "      border-right-color: var(--fill-color);\n",
              "      border-bottom-color: var(--fill-color);\n",
              "    }\n",
              "    90% {\n",
              "      border-color: transparent;\n",
              "      border-bottom-color: var(--fill-color);\n",
              "    }\n",
              "  }\n",
              "</style>\n",
              "\n",
              "  <script>\n",
              "    async function quickchart(key) {\n",
              "      const quickchartButtonEl =\n",
              "        document.querySelector('#' + key + ' button');\n",
              "      quickchartButtonEl.disabled = true;  // To prevent multiple clicks.\n",
              "      quickchartButtonEl.classList.add('colab-df-spinner');\n",
              "      try {\n",
              "        const charts = await google.colab.kernel.invokeFunction(\n",
              "            'suggestCharts', [key], {});\n",
              "      } catch (error) {\n",
              "        console.error('Error during call to suggestCharts:', error);\n",
              "      }\n",
              "      quickchartButtonEl.classList.remove('colab-df-spinner');\n",
              "      quickchartButtonEl.classList.add('colab-df-quickchart-complete');\n",
              "    }\n",
              "    (() => {\n",
              "      let quickchartButtonEl =\n",
              "        document.querySelector('#df-d689b5e6-0147-400f-8708-6711cf04877f button');\n",
              "      quickchartButtonEl.style.display =\n",
              "        google.colab.kernel.accessAllowed ? 'block' : 'none';\n",
              "    })();\n",
              "  </script>\n",
              "</div>\n",
              "    </div>\n",
              "  </div>\n"
            ]
          },
          "metadata": {},
          "execution_count": 7
        }
      ]
    },
    {
      "cell_type": "code",
      "source": [
        "import matplotlib.pyplot as plt\n",
        "plt.scatter(x=X[:,0],\n",
        "           y=X[:,1],\n",
        "           c=y,\n",
        "           cmap=plt.cm.RdYlBu);"
      ],
      "metadata": {
        "colab": {
          "base_uri": "https://localhost:8080/",
          "height": 430
        },
        "id": "kIN4YNjCS2JL",
        "outputId": "3f79c03f-94a3-4dcb-8c87-2e51e6f2ecee"
      },
      "execution_count": 8,
      "outputs": [
        {
          "output_type": "display_data",
          "data": {
            "text/plain": [
              "<Figure size 640x480 with 1 Axes>"
            ],
            "image/png": "[encoded data removed]"
          },
          "metadata": {}
        }
      ]
    },
    {
      "cell_type": "code",
      "source": [
        "#check input and output shapes\n",
        "X.shape, y.shape"
      ],
      "metadata": {
        "colab": {
          "base_uri": "https://localhost:8080/"
        },
        "id": "W8uJha3WTQmN",
        "outputId": "eb3681ad-321b-4f94-e388-5c5581e16724"
      },
      "execution_count": 9,
      "outputs": [
        {
          "output_type": "execute_result",
          "data": {
            "text/plain": [
              "((1000, 2), (1000,))"
            ]
          },
          "metadata": {},
          "execution_count": 9
        }
      ]
    },
    {
      "cell_type": "code",
      "source": [
        "#view the 1st ex of features and labels\n",
        "X_sample =X[0]\n",
        "y_sample=y[0]\n",
        "\n",
        "print(X_sample, y_sample)\n",
        "print(X.shape, y.shape)"
      ],
      "metadata": {
        "colab": {
          "base_uri": "https://localhost:8080/"
        },
        "id": "VUXXCa0xVsQv",
        "outputId": "264c9325-4a57-4145-d183-199ea9dc0d28"
      },
      "execution_count": 10,
      "outputs": [
        {
          "output_type": "stream",
          "name": "stdout",
          "text": [
            "[0.75424625 0.23148074] 1\n",
            "(1000, 2) (1000,)\n"
          ]
        }
      ]
    },
    {
      "cell_type": "code",
      "source": [
        "import torch\n",
        "torch.__version__"
      ],
      "metadata": {
        "colab": {
          "base_uri": "https://localhost:8080/",
          "height": 35
        },
        "id": "ROoaHMHZV75U",
        "outputId": "d9fca587-109e-4137-9fe6-13556e67787a"
      },
      "execution_count": 11,
      "outputs": [
        {
          "output_type": "execute_result",
          "data": {
            "text/plain": [
              "'2.1.0+cu121'"
            ],
            "application/vnd.google.colaboratory.intrinsic+json": {
              "type": "string"
            }
          },
          "metadata": {},
          "execution_count": 11
        }
      ]
    },
    {
      "cell_type": "code",
      "source": [
        "#Turn data into tensors and create train and test splits"
      ],
      "metadata": {
        "id": "MiYI43OdWWoK"
      },
      "execution_count": 12,
      "outputs": []
    },
    {
      "cell_type": "code",
      "source": [
        "X=torch.from_numpy(X).type(torch.float)\n",
        "y= torch.from_numpy(y).type(torch.float)"
      ],
      "metadata": {
        "id": "0PzcHzwlWhhy"
      },
      "execution_count": 13,
      "outputs": []
    },
    {
      "cell_type": "code",
      "source": [
        "X[:5],y[:5]"
      ],
      "metadata": {
        "colab": {
          "base_uri": "https://localhost:8080/"
        },
        "id": "v3pZIGcKWmPE",
        "outputId": "c9c6602f-6ab0-446e-aee5-524a06d54c6c"
      },
      "execution_count": 14,
      "outputs": [
        {
          "output_type": "execute_result",
          "data": {
            "text/plain": [
              "(tensor([[ 0.7542,  0.2315],\n",
              "         [-0.7562,  0.1533],\n",
              "         [-0.8154,  0.1733],\n",
              "         [-0.3937,  0.6929],\n",
              "         [ 0.4422, -0.8967]]),\n",
              " tensor([1., 1., 1., 1., 0.]))"
            ]
          },
          "metadata": {},
          "execution_count": 14
        }
      ]
    },
    {
      "cell_type": "code",
      "source": [
        "#Split data into training and testing split\n",
        "from sklearn.model_selection import train_test_split\n",
        "X_train, X_test, y_train, y_test = train_test_split(X,y,test_size=0.2, random_state=42)\n"
      ],
      "metadata": {
        "id": "nNRMQqKOW3xL"
      },
      "execution_count": 15,
      "outputs": []
    },
    {
      "cell_type": "code",
      "source": [
        "len(X_train), len(X_test), len(y_train), len(y_test)"
      ],
      "metadata": {
        "colab": {
          "base_uri": "https://localhost:8080/"
        },
        "id": "FRzeRbWfXmQe",
        "outputId": "387dff94-a76a-40a9-8411-fba532431df0"
      },
      "execution_count": 17,
      "outputs": [
        {
          "output_type": "execute_result",
          "data": {
            "text/plain": [
              "(800, 200, 800, 200)"
            ]
          },
          "metadata": {},
          "execution_count": 17
        }
      ]
    },
    {
      "cell_type": "markdown",
      "source": [
        "# Building the model\n",
        "1. set up device agonistic code so our code will run on an accelator if there is one\n",
        "2. construct the model by subclassing nn.Module\n",
        "3. define loss function and optimizer\n",
        "4. create training and test loop"
      ],
      "metadata": {
        "id": "Ry38Qun_Xz-q"
      }
    },
    {
      "cell_type": "code",
      "source": [
        "import torch\n",
        "from torch import nn\n",
        "\n",
        "#make device agnostic code\n",
        "device= \"cuda\" if torch.cuda.is_available() else \"cpu\"\n",
        "device"
      ],
      "metadata": {
        "colab": {
          "base_uri": "https://localhost:8080/",
          "height": 35
        },
        "id": "ZdmIdN-uYmts",
        "outputId": "19ac312d-7d7c-4d6d-e4e9-bf18ec36e5f4"
      },
      "execution_count": 18,
      "outputs": [
        {
          "output_type": "execute_result",
          "data": {
            "text/plain": [
              "'cpu'"
            ],
            "application/vnd.google.colaboratory.intrinsic+json": {
              "type": "string"
            }
          },
          "metadata": {},
          "execution_count": 18
        }
      ]
    },
    {
      "cell_type": "code",
      "source": [
        "X_train"
      ],
      "metadata": {
        "colab": {
          "base_uri": "https://localhost:8080/"
        },
        "id": "N7vqmYgcY6KF",
        "outputId": "5d386973-51a0-4903-bfcf-d897c1fcc477"
      },
      "execution_count": 19,
      "outputs": [
        {
          "output_type": "execute_result",
          "data": {
            "text/plain": [
              "tensor([[ 0.6579, -0.4651],\n",
              "        [ 0.6319, -0.7347],\n",
              "        [-1.0086, -0.1240],\n",
              "        ...,\n",
              "        [ 0.0157, -1.0300],\n",
              "        [ 1.0110,  0.1680],\n",
              "        [ 0.5578, -0.5709]])"
            ]
          },
          "metadata": {},
          "execution_count": 19
        }
      ]
    },
    {
      "cell_type": "markdown",
      "source": [
        "##Lets create a Model\n",
        "1.Subclass 'nn.module' (almost all models in PyTorch subclass 'nn.Module')\n",
        "\n",
        "2.Create 2 'nn.Linear()' layers that are capableof handling the shapes of our data\n",
        "\n",
        "3.Define a 'forward()' method that outlines the forward pass(or forward computation) of the model\n",
        "\n",
        "4.instatiate an instance of our model class and send it to the target device"
      ],
      "metadata": {
        "id": "pY81dYknZM9i"
      }
    },
    {
      "cell_type": "code",
      "source": [
        "#1. construct a model that subclass nn.Module\n",
        "class CircleModelV0(nn.Module):\n",
        "  def __init__(self):\n",
        "    super().__init__()\n",
        "    #2. create 2 nn.linear layers capable of handling the shapes of data\n",
        "    self.layer_1=nn.Linear(in_features= 2, out_features=5)\n",
        "    self.layer_2 =nn.Linear(in_features=5, out_features=1)\n",
        "\n",
        "  #3.def forward\n",
        "  def forward(self,x):\n",
        "    return self.layer_2(self.layer_1(x))\n"
      ],
      "metadata": {
        "id": "XMgKe88taL8x"
      },
      "execution_count": 21,
      "outputs": []
    },
    {
      "cell_type": "code",
      "source": [
        "#4. Instantiate an instance of our model\n",
        "model_0 = CircleModelV0().to(device)\n",
        "model_0\n",
        ""
      ],
      "metadata": {
        "colab": {
          "base_uri": "https://localhost:8080/"
        },
        "id": "bgrnGGV-bYa2",
        "outputId": "327d9963-eb58-4f35-b662-cc37834788e9"
      },
      "execution_count": null,
      "outputs": [
        {
          "output_type": "execute_result",
          "data": {
            "text/plain": [
              "CircleModelV0(\n",
              "  (layer_1): Linear(in_features=2, out_features=5, bias=True)\n",
              "  (layer_2): Linear(in_features=5, out_features=1, bias=True)\n",
              ")"
            ]
          },
          "metadata": {},
          "execution_count": 18
        }
      ]
    },
    {
      "cell_type": "code",
      "source": [
        "model_0.parameters()"
      ],
      "metadata": {
        "id": "6u3zAfNcd_4h",
        "outputId": "afc09b74-fa18-41c0-bacd-fef486d332b1",
        "colab": {
          "base_uri": "https://localhost:8080/"
        }
      },
      "execution_count": null,
      "outputs": [
        {
          "output_type": "execute_result",
          "data": {
            "text/plain": [
              "<generator object Module.parameters at 0x7f0210cf3660>"
            ]
          },
          "metadata": {},
          "execution_count": 19
        }
      ]
    },
    {
      "cell_type": "code",
      "source": [
        "next(model_0.parameters()).device"
      ],
      "metadata": {
        "colab": {
          "base_uri": "https://localhost:8080/"
        },
        "id": "T3iWfV8Pdcgp",
        "outputId": "a8387de8-b39e-4ee4-a369-730ce44a348b"
      },
      "execution_count": null,
      "outputs": [
        {
          "output_type": "execute_result",
          "data": {
            "text/plain": [
              "device(type='cpu')"
            ]
          },
          "metadata": {},
          "execution_count": 19
        }
      ]
    },
    {
      "cell_type": "code",
      "source": [
        "#lets replicate the above model using nn.Sequential()\n",
        "model_0=nn.Sequential(\n",
        "    nn.Linear(in_features=2, out_features=5),\n",
        "    nn.Linear(in_features=5, out_features=1),\n",
        "    ).to(device)"
      ],
      "metadata": {
        "id": "iKxoxiEJeQA6"
      },
      "execution_count": null,
      "outputs": []
    },
    {
      "cell_type": "code",
      "source": [
        "model_0"
      ],
      "metadata": {
        "colab": {
          "base_uri": "https://localhost:8080/"
        },
        "id": "B8bP9xmdfugw",
        "outputId": "e85f455d-e9f4-4314-ab88-a4903fba486c"
      },
      "execution_count": null,
      "outputs": [
        {
          "output_type": "execute_result",
          "data": {
            "text/plain": [
              "Sequential(\n",
              "  (0): Linear(in_features=2, out_features=5, bias=True)\n",
              "  (1): Linear(in_features=5, out_features=1, bias=True)\n",
              ")"
            ]
          },
          "metadata": {},
          "execution_count": 21
        }
      ]
    },
    {
      "cell_type": "code",
      "source": [
        "model_0.state_dict()"
      ],
      "metadata": {
        "colab": {
          "base_uri": "https://localhost:8080/"
        },
        "id": "nDStbLxbhEBH",
        "outputId": "f62eb8c3-c54d-43ff-903f-de3d9cb006c9"
      },
      "execution_count": null,
      "outputs": [
        {
          "output_type": "execute_result",
          "data": {
            "text/plain": [
              "OrderedDict([('0.weight', tensor([[-0.2307, -0.5969],\n",
              "                      [ 0.3311,  0.0520],\n",
              "                      [ 0.4641,  0.0424],\n",
              "                      [ 0.2788,  0.3458],\n",
              "                      [-0.0405,  0.1583]])),\n",
              "             ('0.bias', tensor([ 0.2011, -0.3818, -0.4577,  0.4274, -0.2940])),\n",
              "             ('1.weight',\n",
              "              tensor([[-0.3396, -0.3918, -0.0157,  0.1888, -0.2100]])),\n",
              "             ('1.bias', tensor([-0.1331]))])"
            ]
          },
          "metadata": {},
          "execution_count": 22
        }
      ]
    },
    {
      "cell_type": "code",
      "source": [
        "# Make predictions\n",
        "untrained_preds = model_0(X_test.to(device))\n",
        "print(f\"Length of predictions: {len(untrained_preds)}, shape:{untrained_preds.shape}\")\n",
        "print(f\"length of test samples: {len(X_test)}, shape:{X_test.shape}\")\n",
        "print(f\"\\nFirst 10 predictons : \\n {untrained_preds[:10]} \")\n",
        "print(f\"\\n First 10 labels: {y_test[:10]}\")\n"
      ],
      "metadata": {
        "colab": {
          "base_uri": "https://localhost:8080/"
        },
        "id": "zGzvnCdXgN11",
        "outputId": "ceb9f716-3a5d-4c6e-ddfb-d5f0a3b2ff04"
      },
      "execution_count": null,
      "outputs": [
        {
          "output_type": "stream",
          "name": "stdout",
          "text": [
            "Length of predictions: 200, shape:torch.Size([200, 1])\n",
            "length of test samples: 200, shape:torch.Size([200, 2])\n",
            "\n",
            "First 10 predictons : \n",
            " tensor([[ 0.2428],\n",
            "        [ 0.3031],\n",
            "        [ 0.0289],\n",
            "        [ 0.3037],\n",
            "        [-0.0601],\n",
            "        [-0.0226],\n",
            "        [ 0.2175],\n",
            "        [ 0.1410],\n",
            "        [ 0.0330],\n",
            "        [ 0.3061]], grad_fn=<SliceBackward0>) \n",
            "\n",
            " First 10 labels: tensor([1., 0., 1., 0., 1., 1., 0., 0., 1., 0.])\n"
          ]
        }
      ]
    },
    {
      "cell_type": "code",
      "source": [
        "X_test[:10], y_test[:10]"
      ],
      "metadata": {
        "colab": {
          "base_uri": "https://localhost:8080/"
        },
        "id": "t3z1Jd4xiZ_O",
        "outputId": "92919e5b-224d-419e-b52e-5da8e17ebae7"
      },
      "execution_count": null,
      "outputs": [
        {
          "output_type": "execute_result",
          "data": {
            "text/plain": [
              "(tensor([[-0.3752,  0.6827],\n",
              "         [ 0.0154,  0.9600],\n",
              "         [-0.7028, -0.3147],\n",
              "         [-0.2853,  0.9664],\n",
              "         [ 0.4024, -0.7438],\n",
              "         [ 0.6323, -0.5711],\n",
              "         [ 0.8561,  0.5499],\n",
              "         [ 1.0034,  0.1903],\n",
              "         [-0.7489, -0.2951],\n",
              "         [ 0.0538,  0.9739]]),\n",
              " tensor([1., 0., 1., 0., 1., 1., 0., 0., 1., 0.]))"
            ]
          },
          "metadata": {},
          "execution_count": 24
        }
      ]
    },
    {
      "cell_type": "markdown",
      "source": [
        "#Set up loss funcion and optimizer\n",
        "which loss function or optimizer should one use?\n",
        "\n",
        "for regression --- MAE / MSE\n",
        "\n",
        "for classification --- Binary cross entropy / Cross entropy\n",
        "\n",
        "2 most used optimizers are:\n",
        "1. SGD    2. Adam\n",
        "\n",
        "\n",
        "for loss fucnn : torch.nn.BECWithLogitLoss()\n"
      ],
      "metadata": {
        "id": "NRGmczyJiqBf"
      }
    },
    {
      "cell_type": "code",
      "source": [
        "#setup loss function\n",
        "loss_fn= nn.BCEWithLogitsLoss()   #it has sigmoid activation function builtin\n",
        "\n",
        "optimizer= torch.optim.SGD(params=model_0.parameters(), lr=0.1)"
      ],
      "metadata": {
        "id": "yeeZaqcn5Vys"
      },
      "execution_count": null,
      "outputs": []
    },
    {
      "cell_type": "code",
      "source": [
        "model_0.state_dict()"
      ],
      "metadata": {
        "colab": {
          "base_uri": "https://localhost:8080/"
        },
        "id": "VrW5RRay7VjM",
        "outputId": "622e6de6-9a4c-4881-f6d0-60fd8dabaa06"
      },
      "execution_count": null,
      "outputs": [
        {
          "output_type": "execute_result",
          "data": {
            "text/plain": [
              "OrderedDict([('0.weight', tensor([[-0.2307, -0.5969],\n",
              "                      [ 0.3311,  0.0520],\n",
              "                      [ 0.4641,  0.0424],\n",
              "                      [ 0.2788,  0.3458],\n",
              "                      [-0.0405,  0.1583]])),\n",
              "             ('0.bias', tensor([ 0.2011, -0.3818, -0.4577,  0.4274, -0.2940])),\n",
              "             ('1.weight',\n",
              "              tensor([[-0.3396, -0.3918, -0.0157,  0.1888, -0.2100]])),\n",
              "             ('1.bias', tensor([-0.1331]))])"
            ]
          },
          "metadata": {},
          "execution_count": 26
        }
      ]
    },
    {
      "cell_type": "code",
      "source": [
        "#Calculate accuracy\n",
        "def accuracy_fn(y_true, y_pred):\n",
        "  correct = torch.eq(y_true, y_pred).sum().item()\n",
        "  acc= (correct/len(y_pred))*100\n",
        "  return acc"
      ],
      "metadata": {
        "id": "bf26ozFA7ifW"
      },
      "execution_count": null,
      "outputs": []
    },
    {
      "cell_type": "markdown",
      "source": [
        "#training the model\n",
        "1. forward pass\n",
        "2. calculate the loss\n",
        "3. optimizer zero grad\n",
        "4.loss backward\n",
        "5.optimizer (grad descent)"
      ],
      "metadata": {
        "id": "KdNSZ2es8ME8"
      }
    },
    {
      "cell_type": "markdown",
      "source": [
        "## going from raw logits--> predictin proabilities -->prediction labels\n",
        "convert from logit to prediction probabilities by using activation function. for binary classification we use sigmoid and for multiclass classification we use softmax\n",
        "\n",
        "then we can convert prediction probabilities to prediction labels by using argmax() or by rounding them"
      ],
      "metadata": {
        "id": "sg0MiDWM9bwv"
      }
    },
    {
      "cell_type": "code",
      "source": [
        "with torch.inference_mode():\n",
        " y_logits= model_0(X_test.to(device))[:5]\n",
        "y_logits"
      ],
      "metadata": {
        "colab": {
          "base_uri": "https://localhost:8080/"
        },
        "id": "x0PT-zd19rJt",
        "outputId": "746e5240-a515-40fa-c46f-78f34239b094"
      },
      "execution_count": null,
      "outputs": [
        {
          "output_type": "execute_result",
          "data": {
            "text/plain": [
              "tensor([[ 0.2428],\n",
              "        [ 0.3031],\n",
              "        [ 0.0289],\n",
              "        [ 0.3037],\n",
              "        [-0.0601]])"
            ]
          },
          "metadata": {},
          "execution_count": 28
        }
      ]
    },
    {
      "cell_type": "code",
      "source": [
        "#use the sigmoid activation fucntion on our logits\n",
        "y_pred_probs = torch.sigmoid(y_logits)\n",
        "y_pred_probs"
      ],
      "metadata": {
        "colab": {
          "base_uri": "https://localhost:8080/"
        },
        "id": "5tF8Nx-H-myT",
        "outputId": "fe98a07b-f092-423d-a68f-c9697472575f"
      },
      "execution_count": null,
      "outputs": [
        {
          "output_type": "execute_result",
          "data": {
            "text/plain": [
              "tensor([[0.5604],\n",
              "        [0.5752],\n",
              "        [0.5072],\n",
              "        [0.5753],\n",
              "        [0.4850]])"
            ]
          },
          "metadata": {},
          "execution_count": 29
        }
      ]
    },
    {
      "cell_type": "code",
      "source": [
        "torch.round(y_pred_probs)"
      ],
      "metadata": {
        "colab": {
          "base_uri": "https://localhost:8080/"
        },
        "id": "fbO7q492_Reo",
        "outputId": "c533da28-bebe-4084-e2e2-ccc328580b00"
      },
      "execution_count": null,
      "outputs": [
        {
          "output_type": "execute_result",
          "data": {
            "text/plain": [
              "tensor([[1.],\n",
              "        [1.],\n",
              "        [1.],\n",
              "        [1.],\n",
              "        [0.]])"
            ]
          },
          "metadata": {},
          "execution_count": 30
        }
      ]
    },
    {
      "cell_type": "code",
      "source": [
        "#find the predicted labels\n",
        "y_preds=torch.round(y_pred_probs)\n",
        "\n",
        "#in full\n",
        "y_pred_labels = torch.round(torch.sigmoid(model_0(X_test.to(device)[:5])))\n",
        "\n",
        "#check equality\n",
        "print(torch.eq(y_preds.squeeze(), y_pred_labels.squeeze()))\n",
        "#get rid of extra dimension\n",
        "y_preds.squeeze()"
      ],
      "metadata": {
        "colab": {
          "base_uri": "https://localhost:8080/"
        },
        "id": "F7xs1Dk7_YWQ",
        "outputId": "e8f8699f-3562-440b-eec1-b24fc48498aa"
      },
      "execution_count": null,
      "outputs": [
        {
          "output_type": "stream",
          "name": "stdout",
          "text": [
            "tensor([True, True, True, True, True])\n"
          ]
        },
        {
          "output_type": "execute_result",
          "data": {
            "text/plain": [
              "tensor([1., 1., 1., 1., 0.])"
            ]
          },
          "metadata": {},
          "execution_count": 31
        }
      ]
    },
    {
      "cell_type": "code",
      "source": [
        "### Building a training a testing loops\n",
        "torch.manual_seed(42)\n",
        "torch.cuda.manual_seed(42)\n",
        "\n",
        "\n",
        "#set the number of epochs\n",
        "epochs=100\n",
        "\n",
        "#put data to target device\n",
        "X_train,y_train = X_train.to(device), y_train.to(device)\n",
        "X_test, y_test= X_test.to(device), y_test.to(device)\n",
        "\n",
        "\n",
        "#build training and evaluation loop\n",
        "for epoch in range(epochs):\n",
        "  model_0.train()\n",
        "\n",
        "  #1. forward pass\n",
        "  y_logits= model_0(X_train).squeeze()\n",
        "  y_pred = torch.round(torch.sigmoid(y_logits)) # turn logits-->pred probs-->target labels\n",
        "\n",
        "  #2. calculte loss/ accuracy\n",
        "\n",
        "  #loss = loss_fn(torch.sigmoid(y_logits,y_train)): if nn.BCELoss\n",
        "\n",
        "  loss = loss_fn(y_logits, y_train) #nn.BCEWithLogitsLoss expects raw logits as input\n",
        "\n",
        "  acc= accuracy_fn(y_true=y_train,\n",
        "                   y_pred=y_pred)\n",
        "\n",
        "  #optimizer zero grad\n",
        "  optimizer.zero_grad()\n",
        "\n",
        "  #loss backward\n",
        "  loss.backward()\n",
        "\n",
        "  #optimizer step\n",
        "  optimizer.step()\n",
        "\n",
        "  #testing\n",
        "  #1.forward pass\n",
        "  model_0.eval()\n",
        "  with torch.inference_mode():\n",
        "   test_logits = model_0(X_test).squeeze()\n",
        "   test_pred = torch.round(torch.sigmoid(test_logits))\n",
        "\n",
        "   #2. calculate the test loss/acc\n",
        "   test_loss = loss_fn(test_logits,y_test)\n",
        "\n",
        "   test_acc = accuracy_fn(y_true=y_test,\n",
        "                          y_pred=test_pred)\n",
        "\n",
        "   #print out whats happening\n",
        "   if epoch%10==0:\n",
        "     print(f\"Epoch: {epoch} | Loss:{loss:.5f} | acc:{acc:.2f}% | Test loss:{test_loss:.5f} | Test acc:{test_acc:.2f}%  \")\n",
        "\n",
        "\n",
        "\n",
        "\n",
        "\n",
        ""
      ],
      "metadata": {
        "colab": {
          "base_uri": "https://localhost:8080/"
        },
        "id": "4UHKx-fIAstB",
        "outputId": "d6884012-3ae2-4059-a63c-389db2709378"
      },
      "execution_count": null,
      "outputs": [
        {
          "output_type": "stream",
          "name": "stdout",
          "text": [
            "Epoch: 0 | Loss:0.69544 | acc:52.88% | Test loss:0.70138 | Test acc:50.50%  \n",
            "Epoch: 10 | Loss:0.69455 | acc:52.00% | Test loss:0.70013 | Test acc:47.50%  \n",
            "Epoch: 20 | Loss:0.69414 | acc:52.00% | Test loss:0.69938 | Test acc:49.00%  \n",
            "Epoch: 30 | Loss:0.69391 | acc:51.88% | Test loss:0.69884 | Test acc:47.50%  \n",
            "Epoch: 40 | Loss:0.69376 | acc:51.50% | Test loss:0.69841 | Test acc:47.50%  \n",
            "Epoch: 50 | Loss:0.69365 | acc:50.88% | Test loss:0.69804 | Test acc:46.50%  \n",
            "Epoch: 60 | Loss:0.69356 | acc:50.88% | Test loss:0.69773 | Test acc:46.50%  \n",
            "Epoch: 70 | Loss:0.69348 | acc:50.62% | Test loss:0.69745 | Test acc:46.00%  \n",
            "Epoch: 80 | Loss:0.69342 | acc:50.75% | Test loss:0.69720 | Test acc:46.00%  \n",
            "Epoch: 90 | Loss:0.69336 | acc:50.88% | Test loss:0.69698 | Test acc:46.00%  \n"
          ]
        }
      ]
    },
    {
      "cell_type": "code",
      "source": [
        "#now lets change the model\n",
        "class CircleModelV1(nn.Module):\n",
        " def __init__(self):\n",
        "   super().__init__()\n",
        "   self.layer_1 =nn.Linear(in_features=2, out_features=10)\n",
        "   self.layer_2 =nn.Linear(in_features=10, out_features=10)\n",
        "   self.layer_3=nn.Linear(in_features=10, out_features=1)\n",
        "\n",
        " def forward(self, x):\n",
        "    # z=self.layer_1(x)\n",
        "    # z=self.layer_2(z)\n",
        "    # z=self.layer_3(z)\n",
        "    return self.layer_3(self.layer_2(self.layer_1(x)))\n",
        "\n",
        "model_1= CircleModelV1().to(device)\n",
        "model_1\n"
      ],
      "metadata": {
        "colab": {
          "base_uri": "https://localhost:8080/"
        },
        "id": "bp9HPoGPbGER",
        "outputId": "f06ce0f6-f789-41a9-8825-81541fb88d4e"
      },
      "execution_count": null,
      "outputs": [
        {
          "output_type": "execute_result",
          "data": {
            "text/plain": [
              "CircleModelV1(\n",
              "  (layer_1): Linear(in_features=2, out_features=10, bias=True)\n",
              "  (layer_2): Linear(in_features=10, out_features=10, bias=True)\n",
              "  (layer_3): Linear(in_features=10, out_features=1, bias=True)\n",
              ")"
            ]
          },
          "metadata": {},
          "execution_count": 33
        }
      ]
    },
    {
      "cell_type": "code",
      "source": [
        "#create a loss function\n",
        "loss_fn =nn.BCEWithLogitsLoss()\n",
        "#create optimizer\n",
        "optimizer= torch.optim.SGD(params=model_1.parameters(),lr=0.1)\n"
      ],
      "metadata": {
        "id": "KD4yQEqLhXn5"
      },
      "execution_count": null,
      "outputs": []
    },
    {
      "cell_type": "code",
      "source": [
        "#training and evaluation loop for model\n",
        "torch.manual_seed(42)\n",
        "torch.cuda.manual_seed(42)\n",
        "\n",
        "\n",
        "epochs = 1000\n",
        "\n",
        "#put data data on target device\n",
        "X_train, y_train = X_train.to(device), y_train.to(device)\n",
        "X_test, y_test= X_test.to(device), y_test.to(device)\n",
        "\n",
        "for epoch in range(epochs):\n",
        "  #training\n",
        "  model_1.train()\n",
        "\n",
        "  #1. forward pass\n",
        "  y_logits = model_1(X_train).squeeze()\n",
        "  y_pred = torch.round(torch.sigmoid(y_logits))\n",
        "\n",
        "  #2.calculate the loss/acc\n",
        "  loss = loss_fn(y_pred, y_train)\n",
        "  acc = accuracy_fn(y_true=y_train, y_pred=y_pred)\n",
        "\n",
        "  #3.Optimizer zero grad\n",
        "  optimizer.zero_grad()\n",
        "\n",
        "  #4. Loss backward\n",
        "  loss.backward()\n",
        "\n",
        "  #5. optimizer step(gradient descent)\n",
        "  optimizer.step()\n",
        "\n",
        "  ##Testing\n",
        "  model_1.eval()\n",
        "\n",
        "  with torch.inference_mode():\n",
        "    #1. forward pass\n",
        "    test_logits = model_1(X_test).squeeze()\n",
        "    test_pred = torch.round(torch.sigmoid(test_logits))\n",
        "\n",
        "    #2. calculte the loss\n",
        "    test_loss= loss_fn(test_logits, y_test)\n",
        "    test_acc= accuracy_fn(y_true=y_test,\n",
        "                          y_pred=test_pred)\n",
        "\n",
        "    #print out whats hapening\n",
        "  if epoch%100 ==0:\n",
        "    print(f\"Epoch: {epoch} | Loss:{loss:.5f} | acc:{acc:.2f}% | Test loss:{test_loss:.5f} | Test acc:{test_acc:.2f}%  \")\n",
        "\n",
        "\n",
        "\n"
      ],
      "metadata": {
        "colab": {
          "base_uri": "https://localhost:8080/"
        },
        "id": "sYjxSSdxjqS-",
        "outputId": "955880b7-9303-4896-8945-00c8c7709eef"
      },
      "execution_count": null,
      "outputs": [
        {
          "output_type": "stream",
          "name": "stdout",
          "text": [
            "Epoch: 0 | Loss:0.75769 | acc:50.88% | Test loss:0.69261 | Test acc:51.00%  \n",
            "Epoch: 100 | Loss:0.75769 | acc:50.88% | Test loss:0.69261 | Test acc:51.00%  \n",
            "Epoch: 200 | Loss:0.75769 | acc:50.88% | Test loss:0.69261 | Test acc:51.00%  \n",
            "Epoch: 300 | Loss:0.75769 | acc:50.88% | Test loss:0.69261 | Test acc:51.00%  \n",
            "Epoch: 400 | Loss:0.75769 | acc:50.88% | Test loss:0.69261 | Test acc:51.00%  \n",
            "Epoch: 500 | Loss:0.75769 | acc:50.88% | Test loss:0.69261 | Test acc:51.00%  \n",
            "Epoch: 600 | Loss:0.75769 | acc:50.88% | Test loss:0.69261 | Test acc:51.00%  \n",
            "Epoch: 700 | Loss:0.75769 | acc:50.88% | Test loss:0.69261 | Test acc:51.00%  \n",
            "Epoch: 800 | Loss:0.75769 | acc:50.88% | Test loss:0.69261 | Test acc:51.00%  \n",
            "Epoch: 900 | Loss:0.75769 | acc:50.88% | Test loss:0.69261 | Test acc:51.00%  \n"
          ]
        }
      ]
    },
    {
      "cell_type": "code",
      "source": [
        "#make and plot data\n",
        "import matplotlib.pyplot as plt\n",
        "import sklearn\n",
        "from sklearn.datasets import make_circles\n",
        "\n",
        "#make 1000 samples\n",
        "n_samples=1000\n",
        "\n",
        "#create circles\n",
        "X, y = make_circles(n_samples, noise=0.03, random_state=42)\n",
        "\n",
        "plt.scatter(X[:,0], X[:,1], c=y, cmap=plt.cm.RdYlBu);"
      ],
      "metadata": {
        "id": "ZoTYNFhymSE2",
        "colab": {
          "base_uri": "https://localhost:8080/",
          "height": 265
        },
        "outputId": "00125d1f-61aa-4aa3-f732-718b6f55ba91"
      },
      "execution_count": null,
      "outputs": [
        {
          "output_type": "display_data",
          "data": {
            "text/plain": [
              "<Figure size 432x288 with 1 Axes>"
            ],
            "image/png": "[encoded data removed]"
          },
          "metadata": {
            "needs_background": "light"
          }
        }
      ]
    },
    {
      "cell_type": "code",
      "source": [
        "import torch\n",
        "\n",
        "from sklearn.model_selection import train_test_split\n",
        "X=torch.from_numpy(X).type(torch.float)\n",
        "y=torch.from_numpy(y).type(torch.float)\n",
        "\n",
        "#Split data into training and testing split\n",
        "X_train, X_test, y_train, y_test = train_test_split(X,y,test_size=0.2, random_state=42)\n",
        "\n",
        "X_train[:5],y_train[:5]\n"
      ],
      "metadata": {
        "colab": {
          "base_uri": "https://localhost:8080/"
        },
        "id": "dLttKP9Z9EB4",
        "outputId": "e7030e0f-8c85-4626-f94d-0e2a5b18afbc"
      },
      "execution_count": null,
      "outputs": [
        {
          "output_type": "execute_result",
          "data": {
            "text/plain": [
              "(tensor([[ 0.6579, -0.4651],\n",
              "         [ 0.6319, -0.7347],\n",
              "         [-1.0086, -0.1240],\n",
              "         [-0.9666, -0.2256],\n",
              "         [-0.1666,  0.7994]]), tensor([1., 0., 0., 0., 1.]))"
            ]
          },
          "metadata": {},
          "execution_count": 37
        }
      ]
    },
    {
      "cell_type": "code",
      "source": [
        "# Build a model with non-linear activation function\n",
        "from torch import nn\n",
        "class CircleModelV2(nn.Module):\n",
        "  def __init__(self):\n",
        "    super().__init__()\n",
        "    self.layer_1=nn.Linear(in_features=2, out_features=10)\n",
        "    self.layer_2=nn.Linear(in_features=10, out_features=10)\n",
        "    self.layer_3=nn.Linear(in_features=10, out_features=1)\n",
        "    self.relu = nn.ReLU()\n",
        "\n",
        "  def forward(self,x):\n",
        "    #where should we put non linear activation fn\n",
        "    return self.layer_3(self.relu(self.layer_2(self.relu(self.layer_1(x)))))\n",
        "\n",
        "\n",
        "model_3 = CircleModelV2().to(device)\n",
        "model_3\n",
        "\n"
      ],
      "metadata": {
        "colab": {
          "base_uri": "https://localhost:8080/"
        },
        "id": "y7NAYEXU96x4",
        "outputId": "0c03c538-477e-4b34-9b19-ba35318b1d5f"
      },
      "execution_count": null,
      "outputs": [
        {
          "output_type": "execute_result",
          "data": {
            "text/plain": [
              "CircleModelV2(\n",
              "  (layer_1): Linear(in_features=2, out_features=10, bias=True)\n",
              "  (layer_2): Linear(in_features=10, out_features=10, bias=True)\n",
              "  (layer_3): Linear(in_features=10, out_features=1, bias=True)\n",
              "  (relu): ReLU()\n",
              ")"
            ]
          },
          "metadata": {},
          "execution_count": 38
        }
      ]
    },
    {
      "cell_type": "code",
      "source": [
        "#setup loss and optimizer\n",
        "loss_fn =nn.BCEWithLogitsLoss()\n",
        "optimizer= torch.optim.SGD(model_3.parameters(),lr=0.1)"
      ],
      "metadata": {
        "id": "QIhjeajyATmK"
      },
      "execution_count": null,
      "outputs": []
    },
    {
      "cell_type": "code",
      "source": [
        "#training and evaluation loop for model\n",
        "torch.manual_seed(42)\n",
        "torch.cuda.manual_seed(42)\n",
        "\n",
        "\n",
        "epochs = 1000\n",
        "\n",
        "#put data data on target device\n",
        "X_train, y_train = X_train.to(device), y_train.to(device)\n",
        "X_test, y_test= X_test.to(device), y_test.to(device)\n",
        "\n",
        "for epoch in range(epochs):\n",
        "  #training\n",
        "  model_3.train()\n",
        "\n",
        "  #1. forward pass\n",
        "  y_logits = model_3(X_train).squeeze()\n",
        "  y_pred = torch.round(torch.sigmoid(y_logits))\n",
        "\n",
        "  #2.calculate the loss/acc\n",
        "  loss = loss_fn(y_logits, y_train)\n",
        "  acc = accuracy_fn(y_true=y_train, y_pred=y_pred)\n",
        "\n",
        "  #3.Optimizer zero grad\n",
        "  optimizer.zero_grad()\n",
        "\n",
        "  #4. Loss backward\n",
        "  loss.backward()\n",
        "\n",
        "  #5. optimizer step(gradient descent)\n",
        "  optimizer.step()\n",
        "\n",
        "  ##Testing\n",
        "  model_3.eval()\n",
        "\n",
        "  with torch.inference_mode():\n",
        "    #1. forward pass\n",
        "    test_logits = model_3(X_test).squeeze()\n",
        "    test_pred = torch.round(torch.sigmoid(test_logits))\n",
        "\n",
        "    #2. calculte the loss\n",
        "    test_loss= loss_fn(test_logits, y_test)\n",
        "    test_acc= accuracy_fn(y_true=y_test,\n",
        "                          y_pred=test_pred)\n",
        "\n",
        "    #print out whats hapening\n",
        "  if epoch%100 ==0:\n",
        "    print(f\"Epoch: {epoch} | Loss:{loss:.5f} | acc:{acc:.2f}% | Test loss:{test_loss:.5f} | Test acc:{test_acc:.2f}%  \")\n",
        "\n",
        "\n",
        "\n"
      ],
      "metadata": {
        "colab": {
          "base_uri": "https://localhost:8080/"
        },
        "id": "MzDjz5D4AiqU",
        "outputId": "68269e20-80a1-458b-9295-22a26ad06873"
      },
      "execution_count": null,
      "outputs": [
        {
          "output_type": "stream",
          "name": "stdout",
          "text": [
            "Epoch: 0 | Loss:0.69295 | acc:50.00% | Test loss:0.69319 | Test acc:50.00%  \n",
            "Epoch: 100 | Loss:0.69115 | acc:52.88% | Test loss:0.69102 | Test acc:52.50%  \n",
            "Epoch: 200 | Loss:0.68977 | acc:53.37% | Test loss:0.68940 | Test acc:55.00%  \n",
            "Epoch: 300 | Loss:0.68795 | acc:53.00% | Test loss:0.68723 | Test acc:56.00%  \n",
            "Epoch: 400 | Loss:0.68517 | acc:52.75% | Test loss:0.68411 | Test acc:56.50%  \n",
            "Epoch: 500 | Loss:0.68102 | acc:52.75% | Test loss:0.67941 | Test acc:56.50%  \n",
            "Epoch: 600 | Loss:0.67515 | acc:54.50% | Test loss:0.67285 | Test acc:56.00%  \n",
            "Epoch: 700 | Loss:0.66659 | acc:58.38% | Test loss:0.66322 | Test acc:59.00%  \n",
            "Epoch: 800 | Loss:0.65160 | acc:64.00% | Test loss:0.64757 | Test acc:67.50%  \n",
            "Epoch: 900 | Loss:0.62362 | acc:74.00% | Test loss:0.62145 | Test acc:79.00%  \n"
          ]
        }
      ]
    },
    {
      "cell_type": "code",
      "source": [
        "#model evaluation:\n",
        "model_3.eval()\n",
        "with torch.inference_mode():\n",
        "  y_preds= torch.round(torch.sigmoid(model_3(X_test))).squeeze()\n",
        "\n",
        "y_preds[:10], y_test[:10]\n",
        "\n",
        "\n"
      ],
      "metadata": {
        "colab": {
          "base_uri": "https://localhost:8080/"
        },
        "id": "pqDAtzuPD8II",
        "outputId": "6320975a-dd83-4d0b-e66e-49f58fb4b3d1"
      },
      "execution_count": null,
      "outputs": [
        {
          "output_type": "execute_result",
          "data": {
            "text/plain": [
              "(tensor([1., 0., 1., 0., 0., 1., 0., 0., 1., 0.]),\n",
              " tensor([1., 0., 1., 0., 1., 1., 0., 0., 1., 0.]))"
            ]
          },
          "metadata": {},
          "execution_count": 41
        }
      ]
    },
    {
      "cell_type": "markdown",
      "source": [
        "#Multiclass classification\n"
      ],
      "metadata": {
        "id": "nvpmo84bEskJ"
      }
    },
    {
      "cell_type": "code",
      "source": [
        "import torch\n",
        "import matplotlib.pyplot as plt\n",
        "from sklearn.datasets import make_blobs\n",
        "from sklearn.model_selection import train_test_split\n",
        "\n",
        "#set hyperparameter for data creation\n",
        "NUM_CLASSES = 4\n",
        "NUM_FEATURES=2\n",
        "RANDOM_SEED= 42\n",
        "\n",
        "#1. create multiclass data\n",
        "X_blob, y_blob = make_blobs(n_samples=1000,\n",
        "                            n_features = NUM_FEATURES,\n",
        "                            centers=NUM_CLASSES,\n",
        "                            cluster_std=1.5, # give the clusters a little shake up\n",
        "                            random_state= RANDOM_SEED)\n",
        "\n",
        "#2. turn data into tensors\n",
        "X_blob= torch.from_numpy(X_blob).type(torch.float)\n",
        "y_blob = torch.from_numpy(y_blob).type(torch.LongTensor)\n",
        "\n",
        "\n",
        "#Split data into training and testing split\n",
        "X_blob_train, X_blob_test, y_blob_train, y_blob_test = train_test_split(X_blob,y_blob,test_size=0.2, random_state=42)\n",
        "\n",
        "X_blob_train[:5],y_blob_train[:5]\n",
        "\n",
        "\n"
      ],
      "metadata": {
        "colab": {
          "base_uri": "https://localhost:8080/"
        },
        "id": "-np73UxGHTeC",
        "outputId": "e9df8c97-b745-4d6d-e890-cf3c62aceff9"
      },
      "execution_count": null,
      "outputs": [
        {
          "output_type": "execute_result",
          "data": {
            "text/plain": [
              "(tensor([[ 5.0405,  3.3076],\n",
              "         [-2.6249,  9.5260],\n",
              "         [-8.5240, -9.0402],\n",
              "         [-6.0262, -4.4375],\n",
              "         [-3.3397,  7.2175]]), tensor([1, 0, 2, 2, 0]))"
            ]
          },
          "metadata": {},
          "execution_count": 42
        }
      ]
    },
    {
      "cell_type": "code",
      "source": [
        "#plot data\n",
        "plt.figure(figsize=(10,7))\n",
        "plt.scatter(X_blob[:,0],X_blob[:,1],c=y_blob, cmap=plt.cm.RdYlBu)"
      ],
      "metadata": {
        "colab": {
          "base_uri": "https://localhost:8080/",
          "height": 446
        },
        "id": "VCwy-1SUJW1o",
        "outputId": "0e37ecdd-28f1-4580-9de3-4715150fae71"
      },
      "execution_count": null,
      "outputs": [
        {
          "output_type": "execute_result",
          "data": {
            "text/plain": [
              "<matplotlib.collections.PathCollection at 0x7fef9db209d0>"
            ]
          },
          "metadata": {},
          "execution_count": 43
        },
        {
          "output_type": "display_data",
          "data": {
            "text/plain": [
              "<Figure size 720x504 with 1 Axes>"
            ],
            "image/png": "[encoded data removed]"
          },
          "metadata": {
            "needs_background": "light"
          }
        }
      ]
    },
    {
      "cell_type": "code",
      "source": [
        "#building a multiclass classification model\n",
        "device= \"cuda\" if torch.cuda.is_available() else \"cpu\"\n",
        "device"
      ],
      "metadata": {
        "colab": {
          "base_uri": "https://localhost:8080/",
          "height": 36
        },
        "id": "rK5CBGdBKEeO",
        "outputId": "ac43292a-0e83-4314-a5ec-17327306bb58"
      },
      "execution_count": null,
      "outputs": [
        {
          "output_type": "execute_result",
          "data": {
            "text/plain": [
              "'cpu'"
            ],
            "application/vnd.google.colaboratory.intrinsic+json": {
              "type": "string"
            }
          },
          "metadata": {},
          "execution_count": 44
        }
      ]
    },
    {
      "cell_type": "code",
      "source": [
        "#building a multiclass classification model\n",
        "class BlobModel(nn.Module):\n",
        "  def __init__(self, input_features, output_features, hidden_units=8):\n",
        "    super().__init__()\n",
        "    self.linear_layer_stack= nn.Sequential(\n",
        "        nn.Linear(in_features= input_features, out_features=hidden_units),\n",
        "        nn.ReLU(),\n",
        "        nn.Linear(in_features=hidden_units, out_features=hidden_units),\n",
        "        nn.ReLU(),\n",
        "        nn.Linear(in_features=hidden_units, out_features=output_features)\n",
        "    )\n",
        "\n",
        "  def forward(self,x):\n",
        "    return self.linear_layer_stack(x)\n",
        "\n",
        "  #create an instance of model and send it to the target device\n",
        "model_4= BlobModel(input_features=2,\n",
        "                   output_features=4,\n",
        "                   hidden_units=8).to(device)\n",
        "\n"
      ],
      "metadata": {
        "id": "QxlDNtt1KrKq"
      },
      "execution_count": null,
      "outputs": []
    },
    {
      "cell_type": "code",
      "source": [
        "#create a loss function and an optimizer for multi-class classification model\n",
        "loss_fn= nn.CrossEntropyLoss()\n",
        "optimizer = torch.optim.SGD(params=model_4.parameters(), lr=0.1)\n"
      ],
      "metadata": {
        "id": "-gMMGoR_M3Dm"
      },
      "execution_count": null,
      "outputs": []
    },
    {
      "cell_type": "code",
      "source": [
        "#getting prediction probabilities for a multiclass model(logits/raw outputs)\n",
        "model_4.eval()\n",
        "with torch.inference_mode():\n",
        "  y_logits=model_4(X_blob_test)\n",
        "y_logits[:5]\n",
        "\n",
        "\n"
      ],
      "metadata": {
        "colab": {
          "base_uri": "https://localhost:8080/"
        },
        "id": "cYs9PgRDO-LN",
        "outputId": "26861878-9c19-462d-a07c-b980ce29fc0c"
      },
      "execution_count": null,
      "outputs": [
        {
          "output_type": "execute_result",
          "data": {
            "text/plain": [
              "tensor([[-0.7646, -0.7412, -1.5777, -1.1376],\n",
              "        [-0.0973, -0.9431, -0.5963, -0.1371],\n",
              "        [ 0.2528, -0.2379,  0.1882, -0.0066],\n",
              "        [-0.4134, -0.5204, -0.9303, -0.6963],\n",
              "        [-0.3118, -1.3736, -1.1991, -0.3834]])"
            ]
          },
          "metadata": {},
          "execution_count": 47
        }
      ]
    },
    {
      "cell_type": "code",
      "source": [
        "y_blob_test[:5]"
      ],
      "metadata": {
        "colab": {
          "base_uri": "https://localhost:8080/"
        },
        "id": "OAey8Yb7PIbE",
        "outputId": "1aef1075-9005-43d7-d567-21f9f436d1ef"
      },
      "execution_count": null,
      "outputs": [
        {
          "output_type": "execute_result",
          "data": {
            "text/plain": [
              "tensor([1, 3, 2, 1, 0])"
            ]
          },
          "metadata": {},
          "execution_count": 48
        }
      ]
    },
    {
      "cell_type": "code",
      "source": [
        "y_pred_probs= torch.softmax(y_logits, dim=1)\n",
        "print(y_logits[:5])\n",
        "y_pred_probs[:5]"
      ],
      "metadata": {
        "colab": {
          "base_uri": "https://localhost:8080/"
        },
        "id": "ECi23vBmP0Vg",
        "outputId": "5b20dae7-2780-495f-9ea2-38983943aad6"
      },
      "execution_count": null,
      "outputs": [
        {
          "output_type": "stream",
          "name": "stdout",
          "text": [
            "tensor([[-0.7646, -0.7412, -1.5777, -1.1376],\n",
            "        [-0.0973, -0.9431, -0.5963, -0.1371],\n",
            "        [ 0.2528, -0.2379,  0.1882, -0.0066],\n",
            "        [-0.4134, -0.5204, -0.9303, -0.6963],\n",
            "        [-0.3118, -1.3736, -1.1991, -0.3834]])\n"
          ]
        },
        {
          "output_type": "execute_result",
          "data": {
            "text/plain": [
              "tensor([[0.3169, 0.3244, 0.1405, 0.2182],\n",
              "        [0.3336, 0.1432, 0.2026, 0.3206],\n",
              "        [0.3011, 0.1843, 0.2823, 0.2323],\n",
              "        [0.3078, 0.2766, 0.1836, 0.2320],\n",
              "        [0.3719, 0.1286, 0.1532, 0.3463]])"
            ]
          },
          "metadata": {},
          "execution_count": 49
        }
      ]
    },
    {
      "cell_type": "code",
      "source": [
        "torch.max(y_pred_probs[0])"
      ],
      "metadata": {
        "colab": {
          "base_uri": "https://localhost:8080/"
        },
        "id": "keFgvkBdQpGQ",
        "outputId": "377352db-c473-455b-902f-9e87b94c5c6b"
      },
      "execution_count": null,
      "outputs": [
        {
          "output_type": "execute_result",
          "data": {
            "text/plain": [
              "tensor(0.3244)"
            ]
          },
          "metadata": {},
          "execution_count": 50
        }
      ]
    },
    {
      "cell_type": "code",
      "source": [
        "torch.argmax(y_pred_probs[0])"
      ],
      "metadata": {
        "colab": {
          "base_uri": "https://localhost:8080/"
        },
        "id": "mTTd4P93RBCx",
        "outputId": "45e49d7f-ac77-4d9c-a169-be4bb4381e17"
      },
      "execution_count": null,
      "outputs": [
        {
          "output_type": "execute_result",
          "data": {
            "text/plain": [
              "tensor(1)"
            ]
          },
          "metadata": {},
          "execution_count": 51
        }
      ]
    },
    {
      "cell_type": "code",
      "source": [
        "#convert models prediction probabilities to models prediction labels\n",
        "y_preds= torch.argmax(y_pred_probs, dim=1)\n",
        "y_preds"
      ],
      "metadata": {
        "colab": {
          "base_uri": "https://localhost:8080/"
        },
        "id": "EQwZdNM2RJhx",
        "outputId": "feeef492-73ba-462f-ef28-4968b64413f7"
      },
      "execution_count": null,
      "outputs": [
        {
          "output_type": "execute_result",
          "data": {
            "text/plain": [
              "tensor([1, 0, 0, 0, 0, 0, 0, 0, 0, 0, 0, 1, 0, 0, 0, 0, 0, 0, 0, 0, 0, 0, 0, 0,\n",
              "        0, 0, 0, 0, 0, 0, 0, 1, 0, 0, 1, 0, 0, 0, 0, 0, 0, 0, 0, 0, 0, 0, 0, 0,\n",
              "        0, 3, 0, 0, 0, 0, 0, 0, 0, 1, 0, 0, 0, 0, 0, 0, 0, 0, 0, 0, 0, 0, 0, 0,\n",
              "        0, 0, 0, 0, 0, 0, 0, 0, 0, 0, 0, 0, 0, 0, 0, 0, 0, 0, 0, 0, 1, 0, 0, 0,\n",
              "        1, 0, 0, 0, 0, 0, 0, 0, 0, 0, 0, 0, 0, 0, 0, 0, 0, 0, 0, 0, 0, 0, 0, 0,\n",
              "        0, 0, 0, 0, 0, 0, 0, 0, 0, 0, 0, 0, 0, 0, 0, 3, 0, 0, 1, 0, 1, 0, 0, 0,\n",
              "        0, 0, 0, 0, 3, 0, 0, 1, 0, 0, 0, 0, 0, 0, 0, 1, 0, 0, 0, 0, 0, 0, 0, 0,\n",
              "        0, 0, 0, 0, 0, 1, 1, 1, 0, 0, 0, 1, 0, 0, 0, 1, 0, 0, 0, 0, 0, 0, 0, 0,\n",
              "        1, 0, 0, 0, 0, 1, 0, 1])"
            ]
          },
          "metadata": {},
          "execution_count": 52
        }
      ]
    },
    {
      "cell_type": "code",
      "source": [
        "y_blob_test"
      ],
      "metadata": {
        "colab": {
          "base_uri": "https://localhost:8080/"
        },
        "id": "6qEuTfl6ReUa",
        "outputId": "a93ee6c0-6b52-480e-e278-90a8cdc677d9"
      },
      "execution_count": null,
      "outputs": [
        {
          "output_type": "execute_result",
          "data": {
            "text/plain": [
              "tensor([1, 3, 2, 1, 0, 3, 2, 0, 2, 0, 0, 1, 0, 0, 0, 3, 3, 2, 3, 3, 3, 0, 1, 2,\n",
              "        2, 2, 3, 0, 1, 0, 3, 1, 1, 3, 1, 2, 1, 3, 0, 2, 0, 3, 3, 2, 0, 3, 1, 1,\n",
              "        0, 3, 1, 0, 1, 1, 3, 2, 1, 1, 3, 2, 2, 0, 3, 2, 2, 0, 0, 3, 3, 0, 0, 3,\n",
              "        3, 3, 2, 3, 3, 3, 3, 1, 0, 2, 3, 2, 3, 3, 2, 3, 3, 2, 3, 3, 1, 3, 3, 3,\n",
              "        1, 0, 3, 2, 0, 0, 3, 0, 2, 3, 1, 0, 3, 2, 1, 1, 0, 2, 2, 3, 0, 0, 1, 2,\n",
              "        2, 3, 0, 1, 2, 0, 0, 0, 2, 3, 1, 2, 3, 2, 0, 3, 0, 0, 1, 1, 1, 0, 2, 2,\n",
              "        2, 2, 0, 3, 3, 2, 2, 1, 3, 2, 0, 0, 3, 3, 2, 1, 2, 0, 3, 2, 0, 3, 2, 0,\n",
              "        2, 2, 2, 0, 3, 1, 1, 1, 1, 1, 3, 1, 0, 2, 2, 1, 2, 2, 0, 1, 2, 2, 0, 0,\n",
              "        1, 3, 2, 0, 3, 1, 2, 1])"
            ]
          },
          "metadata": {},
          "execution_count": 53
        }
      ]
    },
    {
      "cell_type": "markdown",
      "source": [
        "#creating training and testing loops for a multiclass model\n"
      ],
      "metadata": {
        "id": "R8hlg_xQRhJB"
      }
    },
    {
      "cell_type": "code",
      "source": [
        "torch.manual_seed(42)\n",
        "torch.cuda.manual_seed(42)\n",
        "\n",
        "#set number of epochs\n",
        "epochs=100\n",
        "\n",
        "#data to target device\n",
        "X_blob_train, y_blob_train =X_blob_train.to(device), y_blob_train.to(device)\n",
        "X_blob_test, y_blob_test =X_blob_test.to(device), y_blob_test.to(device)\n",
        "\n",
        "#loop through data\n",
        "for epoch in range(epochs):\n",
        "  #training\n",
        "  model_4.train()\n",
        "\n",
        "  #1. forward pass\n",
        "  y_logits = model_4(X_blob_train)\n",
        "  y_pred = torch.softmax(y_logits, dim=1).argmax(dim=1)\n",
        "\n",
        "  #2.calculate the loss/acc\n",
        "  loss = loss_fn(y_logits, y_blob_train)\n",
        "  acc = accuracy_fn(y_true=y_blob_train, y_pred=y_pred)\n",
        "\n",
        "  #3.Optimizer zero grad\n",
        "  optimizer.zero_grad()\n",
        "\n",
        "  #4. Loss backward\n",
        "  loss.backward()\n",
        "\n",
        "  #5. optimizer step(gradient descent)\n",
        "  optimizer.step()\n",
        "\n",
        "  ##Testing\n",
        "  model_4.eval()\n",
        "\n",
        "  with torch.inference_mode():\n",
        "    #1. forward pass\n",
        "    test_logits = model_4(X_blob_test)\n",
        "    test_pred = torch.softmax(test_logits, dim=1).argmax(dim=1)\n",
        "\n",
        "    #2. calculte the loss\n",
        "    test_loss= loss_fn(test_logits, y_blob_test)\n",
        "    test_acc= accuracy_fn(y_true=y_blob_test,\n",
        "                          y_pred=test_pred)\n",
        "\n",
        "    #print out whats hapening\n",
        "  if epoch%10 ==0:\n",
        "    print(f\"Epoch: {epoch} | Loss:{loss:.5f} | acc:{acc:.2f}% | Test loss:{test_loss:.5f} | Test acc:{test_acc:.2f}%  \")\n"
      ],
      "metadata": {
        "colab": {
          "base_uri": "https://localhost:8080/"
        },
        "id": "DexQMtAeSCn1",
        "outputId": "9556a4ae-3de4-4cfa-afdb-c3eb9c8f838b"
      },
      "execution_count": null,
      "outputs": [
        {
          "output_type": "stream",
          "name": "stdout",
          "text": [
            "Epoch: 0 | Loss:1.15883 | acc:40.38% | Test loss:1.07554 | Test acc:48.00%  \n",
            "Epoch: 10 | Loss:0.64476 | acc:96.75% | Test loss:0.66069 | Test acc:97.50%  \n",
            "Epoch: 20 | Loss:0.42535 | acc:98.50% | Test loss:0.43074 | Test acc:100.00%  \n",
            "Epoch: 30 | Loss:0.25294 | acc:99.12% | Test loss:0.24508 | Test acc:99.50%  \n",
            "Epoch: 40 | Loss:0.11232 | acc:99.25% | Test loss:0.10229 | Test acc:99.50%  \n",
            "Epoch: 50 | Loss:0.06627 | acc:99.25% | Test loss:0.05848 | Test acc:99.50%  \n",
            "Epoch: 60 | Loss:0.05068 | acc:99.25% | Test loss:0.04293 | Test acc:99.50%  \n",
            "Epoch: 70 | Loss:0.04300 | acc:99.25% | Test loss:0.03491 | Test acc:99.50%  \n",
            "Epoch: 80 | Loss:0.03836 | acc:99.25% | Test loss:0.02988 | Test acc:99.50%  \n",
            "Epoch: 90 | Loss:0.03525 | acc:99.25% | Test loss:0.02663 | Test acc:99.50%  \n"
          ]
        }
      ]
    },
    {
      "cell_type": "code",
      "source": [
        "model_4.eval()\n",
        "with torch.inference_mode():\n",
        "   y_logits = model_4(X_blob_test)\n",
        "y_logits[:10]"
      ],
      "metadata": {
        "colab": {
          "base_uri": "https://localhost:8080/"
        },
        "id": "1oS6utRbT7e8",
        "outputId": "400abff8-defa-4521-fda9-ab3626a7ec94"
      },
      "execution_count": null,
      "outputs": [
        {
          "output_type": "execute_result",
          "data": {
            "text/plain": [
              "tensor([[-0.6249,  5.9860, -7.6323, -8.4470],\n",
              "        [-2.1738, -6.3750, -3.7202,  3.1203],\n",
              "        [-3.4102, -3.8958,  3.1567, -2.6119],\n",
              "        [-1.1505,  4.1962, -3.8472, -4.8820],\n",
              "        [ 3.7548, -1.3391, -9.1422, -6.9466],\n",
              "        [-2.8211, -7.5767, -4.2944,  3.7944],\n",
              "        [-3.0306, -3.3328,  2.7955, -2.1374],\n",
              "        [ 3.3761, -4.0375, -6.8987, -3.5503],\n",
              "        [-4.3620, -4.9904,  3.8123, -3.3814],\n",
              "        [ 3.5012, -3.0281, -7.5401, -4.7064]])"
            ]
          },
          "metadata": {},
          "execution_count": 55
        }
      ]
    },
    {
      "cell_type": "code",
      "source": [
        "y_pred_probs= torch.softmax(y_logits, dim=1)\n",
        "y_pred_probs[:10]"
      ],
      "metadata": {
        "colab": {
          "base_uri": "https://localhost:8080/"
        },
        "id": "jAzThsCXbzX9",
        "outputId": "daa2bb0a-3f86-42aa-8c95-c92eb6ca3258"
      },
      "execution_count": null,
      "outputs": [
        {
          "output_type": "execute_result",
          "data": {
            "text/plain": [
              "tensor([[1.3437e-03, 9.9865e-01, 1.2164e-06, 5.3854e-07],\n",
              "        [4.9905e-03, 7.4740e-05, 1.0630e-03, 9.9387e-01],\n",
              "        [1.3985e-03, 8.6060e-04, 9.9463e-01, 3.1073e-03],\n",
              "        [4.7389e-03, 9.9483e-01, 3.1956e-04, 1.1353e-04],\n",
              "        [9.9388e-01, 6.0966e-03, 2.4904e-06, 2.2378e-05],\n",
              "        [1.3372e-03, 1.1504e-05, 3.0644e-04, 9.9834e-01],\n",
              "        [2.9138e-03, 2.1537e-03, 9.8781e-01, 7.1181e-03],\n",
              "        [9.9838e-01, 6.0198e-04, 3.4435e-05, 9.7989e-04],\n",
              "        [2.8147e-04, 1.5016e-04, 9.9882e-01, 7.5044e-04],\n",
              "        [9.9825e-01, 1.4575e-03, 1.5997e-05, 2.7210e-04]])"
            ]
          },
          "metadata": {},
          "execution_count": 56
        }
      ]
    },
    {
      "cell_type": "code",
      "source": [
        "y_blob_test[:10]"
      ],
      "metadata": {
        "colab": {
          "base_uri": "https://localhost:8080/"
        },
        "id": "HnlQqS0db9J1",
        "outputId": "ddc40a3f-fdfe-4489-f482-aaefa52d3ccb"
      },
      "execution_count": null,
      "outputs": [
        {
          "output_type": "execute_result",
          "data": {
            "text/plain": [
              "tensor([1, 3, 2, 1, 0, 3, 2, 0, 2, 0])"
            ]
          },
          "metadata": {},
          "execution_count": 57
        }
      ]
    },
    {
      "cell_type": "code",
      "source": [
        "y_pred= torch.argmax(y_pred_probs, dim=1)\n",
        "y_pred[:10]"
      ],
      "metadata": {
        "colab": {
          "base_uri": "https://localhost:8080/"
        },
        "id": "g4LKiV7gb_1W",
        "outputId": "fe0dbc66-9303-488a-f5ba-e032d1eff8b1"
      },
      "execution_count": null,
      "outputs": [
        {
          "output_type": "execute_result",
          "data": {
            "text/plain": [
              "tensor([1, 3, 2, 1, 0, 3, 2, 0, 2, 0])"
            ]
          },
          "metadata": {},
          "execution_count": 58
        }
      ]
    },
    {
      "cell_type": "code",
      "source": [
        "!pip install torchmetrics\n"
      ],
      "metadata": {
        "id": "RfAJoTPNcNWX",
        "colab": {
          "base_uri": "https://localhost:8080/"
        },
        "outputId": "b7e51669-490a-4dc3-cab1-d3604927933b"
      },
      "execution_count": null,
      "outputs": [
        {
          "output_type": "stream",
          "name": "stdout",
          "text": [
            "Looking in indexes: https://pypi.org/simple, https://us-python.pkg.dev/colab-wheels/public/simple/\n",
            "Collecting torchmetrics\n",
            "  Downloading torchmetrics-0.11.1-py3-none-any.whl (517 kB)\n",
            "\u001b[2K     \u001b[90m━━━━━━━━━━━━━━━━━━━━━━━━━━━━━━━━━━━━━━\u001b[0m \u001b[32m517.2/517.2 KB\u001b[0m \u001b[31m10.2 MB/s\u001b[0m eta \u001b[36m0:00:00\u001b[0m\n",
            "\u001b[?25hRequirement already satisfied: typing-extensions in /usr/local/lib/python3.8/dist-packages (from torchmetrics) (4.4.0)\n",
            "Requirement already satisfied: packaging in /usr/local/lib/python3.8/dist-packages (from torchmetrics) (21.3)\n",
            "Requirement already satisfied: torch>=1.8.1 in /usr/local/lib/python3.8/dist-packages (from torchmetrics) (1.13.1+cu116)\n",
            "Requirement already satisfied: numpy>=1.17.2 in /usr/local/lib/python3.8/dist-packages (from torchmetrics) (1.21.6)\n",
            "Requirement already satisfied: pyparsing!=3.0.5,>=2.0.2 in /usr/local/lib/python3.8/dist-packages (from packaging->torchmetrics) (3.0.9)\n",
            "Installing collected packages: torchmetrics\n",
            "Successfully installed torchmetrics-0.11.1\n"
          ]
        }
      ]
    },
    {
      "cell_type": "code",
      "source": [
        "from torchmetrics import Accuracy"
      ],
      "metadata": {
        "id": "HW21OrABcgL0"
      },
      "execution_count": null,
      "outputs": []
    },
    {
      "cell_type": "code",
      "source": [
        "# setup metric\n",
        "torchmetric_accuracy = Accuracy(task=\"multiclass\", num_classes=4)\n",
        "\n",
        "#calculate accuracy\n",
        "torchmetric_accuracy(y_pred, y_blob_test)\n"
      ],
      "metadata": {
        "colab": {
          "base_uri": "https://localhost:8080/"
        },
        "id": "JYNF5cRyyOIl",
        "outputId": "2dea1f1d-ef3f-4c81-d343-427c9799a251"
      },
      "execution_count": null,
      "outputs": [
        {
          "output_type": "execute_result",
          "data": {
            "text/plain": [
              "tensor(0.9950)"
            ]
          },
          "metadata": {},
          "execution_count": 68
        }
      ]
    },
    {
      "cell_type": "code",
      "source": [],
      "metadata": {
        "id": "Dida1v3xydw3"
      },
      "execution_count": null,
      "outputs": []
    }
  ]
}